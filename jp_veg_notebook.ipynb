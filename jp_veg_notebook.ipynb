{
 "cells": [
  {
   "cell_type": "markdown",
   "id": "a166b638",
   "metadata": {},
   "source": [
    "## ⚙️ Setup\n",
    "\n",
    "Import core libraries and set global options."
   ]
  },
  {
   "cell_type": "code",
   "execution_count": 6,
   "id": "da4ca4ef-9a36-402d-bb9e-0e1149f5767b",
   "metadata": {},
   "outputs": [
    {
     "name": "stdout",
     "output_type": "stream",
     "text": [
      "pandas 2.2.0 | numpy 1.26.0 | TensorFlow 2.15.0\n"
     ]
    }
   ],
   "source": [
    "# --- Core data stack -------------------------------------------------\n",
    "import pandas as pd\n",
    "import numpy as np\n",
    "\n",
    "# --- Visualisation ---------------------------------------------------\n",
    "import matplotlib.pyplot as plt\n",
    "import seaborn as sns\n",
    "import plotly.express as px   # if you plan to use Plotly later\n",
    "\n",
    "# --- Machine‑learning / modelling -----------------------------------\n",
    "import tensorflow as tf\n",
    "from sklearn import metrics   # handy for later evaluation\n",
    "\n",
    "# --- Notebook‑wide settings -----------------------------------------\n",
    "pd.set_option(\"display.max_columns\", None)   # show all cols in head()\n",
    "sns.set(style=\"whitegrid\")                   # clean seaborn default\n",
    "\n",
    "# quick version check (optional)\n",
    "print(\n",
    "    f\"pandas {pd.__version__} | \"\n",
    "    f\"numpy {np.__version__} | \"\n",
    "    f\"TensorFlow {tf.__version__}\"\n",
    ")\n"
   ]
  },
  {
   "cell_type": "markdown",
   "id": "13be3cb6",
   "metadata": {},
   "source": [
    "## 📥 Load Data\n",
    "\n",
    "Load the cleaned FAOSTAT producer‑price CSV for Japanese vegetables (2000‑2023)."
   ]
  },
  {
   "cell_type": "code",
   "execution_count": 7,
   "id": "2371bdd7-4034-46a3-ac7f-d3f9010c51c6",
   "metadata": {},
   "outputs": [
    {
     "name": "stdout",
     "output_type": "stream",
     "text": [
      "Shape → (1878, 15)\n",
      "Columns: ['Domain_Code', 'Domain', 'Area_Code_M49', 'Area', 'Element_Code', 'Element', 'Item_Code_CPC', 'Item', 'Year_Code', 'Year'] …\n"
     ]
    },
    {
     "data": {
      "text/html": [
       "<div>\n",
       "<style scoped>\n",
       "    .dataframe tbody tr th:only-of-type {\n",
       "        vertical-align: middle;\n",
       "    }\n",
       "\n",
       "    .dataframe tbody tr th {\n",
       "        vertical-align: top;\n",
       "    }\n",
       "\n",
       "    .dataframe thead th {\n",
       "        text-align: right;\n",
       "    }\n",
       "</style>\n",
       "<table border=\"1\" class=\"dataframe\">\n",
       "  <thead>\n",
       "    <tr style=\"text-align: right;\">\n",
       "      <th></th>\n",
       "      <th>Domain_Code</th>\n",
       "      <th>Domain</th>\n",
       "      <th>Area_Code_M49</th>\n",
       "      <th>Area</th>\n",
       "      <th>Element_Code</th>\n",
       "      <th>Element</th>\n",
       "      <th>Item_Code_CPC</th>\n",
       "      <th>Item</th>\n",
       "      <th>Year_Code</th>\n",
       "      <th>Year</th>\n",
       "      <th>Unit</th>\n",
       "      <th>Value</th>\n",
       "      <th>Flag</th>\n",
       "      <th>Flag_Description</th>\n",
       "      <th>Note</th>\n",
       "    </tr>\n",
       "  </thead>\n",
       "  <tbody>\n",
       "    <tr>\n",
       "      <th>0</th>\n",
       "      <td>QCL</td>\n",
       "      <td>Crops and livestock products</td>\n",
       "      <td>392</td>\n",
       "      <td>Japan</td>\n",
       "      <td>5312</td>\n",
       "      <td>Area harvested</td>\n",
       "      <td>1211.0</td>\n",
       "      <td>Asparagus</td>\n",
       "      <td>2000</td>\n",
       "      <td>2000</td>\n",
       "      <td>ha</td>\n",
       "      <td>7630.0</td>\n",
       "      <td>X</td>\n",
       "      <td>Figure from international organizations</td>\n",
       "      <td>Unofficial figure</td>\n",
       "    </tr>\n",
       "    <tr>\n",
       "      <th>1</th>\n",
       "      <td>QCL</td>\n",
       "      <td>Crops and livestock products</td>\n",
       "      <td>392</td>\n",
       "      <td>Japan</td>\n",
       "      <td>5412</td>\n",
       "      <td>Yield</td>\n",
       "      <td>1211.0</td>\n",
       "      <td>Asparagus</td>\n",
       "      <td>2000</td>\n",
       "      <td>2000</td>\n",
       "      <td>kg/ha</td>\n",
       "      <td>3761.5</td>\n",
       "      <td>X</td>\n",
       "      <td>Figure from international organizations</td>\n",
       "      <td>No additional notes</td>\n",
       "    </tr>\n",
       "    <tr>\n",
       "      <th>2</th>\n",
       "      <td>QCL</td>\n",
       "      <td>Crops and livestock products</td>\n",
       "      <td>392</td>\n",
       "      <td>Japan</td>\n",
       "      <td>5510</td>\n",
       "      <td>Production</td>\n",
       "      <td>1211.0</td>\n",
       "      <td>Asparagus</td>\n",
       "      <td>2000</td>\n",
       "      <td>2000</td>\n",
       "      <td>t</td>\n",
       "      <td>28700.0</td>\n",
       "      <td>X</td>\n",
       "      <td>Figure from international organizations</td>\n",
       "      <td>Unofficial figure</td>\n",
       "    </tr>\n",
       "    <tr>\n",
       "      <th>3</th>\n",
       "      <td>QCL</td>\n",
       "      <td>Crops and livestock products</td>\n",
       "      <td>392</td>\n",
       "      <td>Japan</td>\n",
       "      <td>5312</td>\n",
       "      <td>Area harvested</td>\n",
       "      <td>1211.0</td>\n",
       "      <td>Asparagus</td>\n",
       "      <td>2001</td>\n",
       "      <td>2001</td>\n",
       "      <td>ha</td>\n",
       "      <td>7230.0</td>\n",
       "      <td>X</td>\n",
       "      <td>Figure from international organizations</td>\n",
       "      <td>Unofficial figure</td>\n",
       "    </tr>\n",
       "    <tr>\n",
       "      <th>4</th>\n",
       "      <td>QCL</td>\n",
       "      <td>Crops and livestock products</td>\n",
       "      <td>392</td>\n",
       "      <td>Japan</td>\n",
       "      <td>5412</td>\n",
       "      <td>Yield</td>\n",
       "      <td>1211.0</td>\n",
       "      <td>Asparagus</td>\n",
       "      <td>2001</td>\n",
       "      <td>2001</td>\n",
       "      <td>kg/ha</td>\n",
       "      <td>3914.2</td>\n",
       "      <td>X</td>\n",
       "      <td>Figure from international organizations</td>\n",
       "      <td>No additional notes</td>\n",
       "    </tr>\n",
       "  </tbody>\n",
       "</table>\n",
       "</div>"
      ],
      "text/plain": [
       "  Domain_Code                        Domain  Area_Code_M49   Area  \\\n",
       "0         QCL  Crops and livestock products            392  Japan   \n",
       "1         QCL  Crops and livestock products            392  Japan   \n",
       "2         QCL  Crops and livestock products            392  Japan   \n",
       "3         QCL  Crops and livestock products            392  Japan   \n",
       "4         QCL  Crops and livestock products            392  Japan   \n",
       "\n",
       "   Element_Code         Element  Item_Code_CPC       Item  Year_Code  Year  \\\n",
       "0          5312  Area harvested         1211.0  Asparagus       2000  2000   \n",
       "1          5412           Yield         1211.0  Asparagus       2000  2000   \n",
       "2          5510      Production         1211.0  Asparagus       2000  2000   \n",
       "3          5312  Area harvested         1211.0  Asparagus       2001  2001   \n",
       "4          5412           Yield         1211.0  Asparagus       2001  2001   \n",
       "\n",
       "    Unit    Value Flag                         Flag_Description  \\\n",
       "0     ha   7630.0    X  Figure from international organizations   \n",
       "1  kg/ha   3761.5    X  Figure from international organizations   \n",
       "2      t  28700.0    X  Figure from international organizations   \n",
       "3     ha   7230.0    X  Figure from international organizations   \n",
       "4  kg/ha   3914.2    X  Figure from international organizations   \n",
       "\n",
       "                  Note  \n",
       "0    Unofficial figure  \n",
       "1  No additional notes  \n",
       "2    Unofficial figure  \n",
       "3    Unofficial figure  \n",
       "4  No additional notes  "
      ]
     },
     "execution_count": 7,
     "metadata": {},
     "output_type": "execute_result"
    }
   ],
   "source": [
    "DATA_PATH = \"jp_vegetables_clean.csv\"  # adjust name if different\n",
    "df = pd.read_csv(DATA_PATH)\n",
    "\n",
    "print(f\"Shape → {df.shape}\")\n",
    "print(\"Columns:\", df.columns.tolist()[:10], \"…\")\n",
    "df.head()\n"
   ]
  },
  {
   "cell_type": "markdown",
   "id": "344420a6",
   "metadata": {},
   "source": [
    "## 🔎 Quick Trend Check\n",
    "\n",
    "Plot raw price trend to eyeball the data."
   ]
  },
  {
   "cell_type": "code",
   "execution_count": 8,
   "id": "43e75bf7-ee03-4f21-8ce4-bf71358c048e",
   "metadata": {},
   "outputs": [
    {
     "name": "stderr",
     "output_type": "stream",
     "text": [
      "C:\\Users\\Pavel\\miniconda3\\envs\\jp_veg_ai\\Lib\\site-packages\\IPython\\core\\pylabtools.py:170: UserWarning: Glyph 8209 (\\N{NON-BREAKING HYPHEN}) missing from current font.\n",
      "  fig.canvas.print_figure(bytes_io, **kw)\n"
     ]
    },
    {
     "data": {
      "image/png": "[encoded data removed]",
      "text/plain": [
       "<Figure size 1000x400 with 1 Axes>"
      ]
     },
     "metadata": {},
     "output_type": "display_data"
    }
   ],
   "source": [
    "plt.figure(figsize=(10, 4))\n",
    "sns.lineplot(data=df, x=\"Year\", y=\"Value\")\n",
    "plt.title(\"Producer Price – All Vegetables (Japan 2000‑2023)\")\n",
    "plt.ylabel(\"Price (local currency / tonne)\")\n",
    "plt.show()\n"
   ]
  },
  {
   "cell_type": "markdown",
   "id": "6c3858b8",
   "metadata": {},
   "source": [
    "## 💾 Save Snapshot\n",
    "\n",
    "Save a snapshot of the raw dataframe for reproducibility."
   ]
  },
  {
   "cell_type": "code",
   "execution_count": 9,
   "id": "854f6f77-6db8-4247-95ee-149393b4c174",
   "metadata": {},
   "outputs": [
    {
     "name": "stdout",
     "output_type": "stream",
     "text": [
      "Snapshot saved → jp_veg_clean_snapshot.csv\n",
      "✅ Step 1 complete — environment ready & clean data loaded.\n"
     ]
    }
   ],
   "source": [
    "SNAPSHOT = \"jp_veg_clean_snapshot.csv\"\n",
    "df.to_csv(SNAPSHOT, index=False)\n",
    "print(\"Snapshot saved →\", SNAPSHOT)\n",
    "print(\"✅ Step 1 complete — environment ready & clean data loaded.\")\n"
   ]
  },
  {
   "cell_type": "markdown",
   "id": "5da549ba",
   "metadata": {},
   "source": [
    "## 🧹 Data Cleaning\n",
    "\n",
    "Ensure correct dtypes and fill missing values with item‑level medians."
   ]
  },
  {
   "cell_type": "code",
   "execution_count": 10,
   "id": "01e3e8de-4ca0-4eda-919b-37fec4201843",
   "metadata": {},
   "outputs": [
    {
     "name": "stdout",
     "output_type": "stream",
     "text": [
      "Nulls per column:\n",
      " Series([], dtype: int64)\n"
     ]
    }
   ],
   "source": [
    "# 2A‑1  Ensure Year is integer\n",
    "df[\"Year\"] = df[\"Year\"].astype(int)\n",
    "\n",
    "# 2A‑2  Look for nulls\n",
    "null_counts = df.isna().sum()\n",
    "print(\"Nulls per column:\\n\", null_counts[null_counts > 0])\n",
    "\n",
    "# If Value has gaps, choose one strategy (median per item × year as example)\n",
    "if null_counts.get(\"Value\", 0) > 0:\n",
    "    df[\"Value\"] = (\n",
    "        df.groupby(\"Item\")[\"Value\"]\n",
    "          .apply(lambda s: s.fillna(s.median()))\n",
    "    )\n",
    "    print(\"Nulls in Value filled with item‑level medians ✅\")\n"
   ]
  },
  {
   "cell_type": "markdown",
   "id": "d7276482",
   "metadata": {},
   "source": [
    "## 📏 Winsorise Outliers\n",
    "\n",
    "Cap extreme spikes using Tukey fences per item."
   ]
  },
  {
   "cell_type": "code",
   "execution_count": 11,
   "id": "e8027b0c-29c8-4658-808e-9fd4cae36344",
   "metadata": {},
   "outputs": [
    {
     "name": "stdout",
     "output_type": "stream",
     "text": [
      "Winsorisation done — compare df[['Value','Value_winsor']].head()\n"
     ]
    }
   ],
   "source": [
    "# Tukey fences per Item\n",
    "def winsorise(series, k=1.5):\n",
    "    q1, q3 = series.quantile([0.25, 0.75])\n",
    "    iqr = q3 - q1\n",
    "    lower, upper = q1 - k*iqr, q3 + k*iqr\n",
    "    return series.clip(lower, upper)\n",
    "\n",
    "df[\"Value_winsor\"] = (\n",
    "    df.groupby(\"Item\")[\"Value\"]\n",
    "      .transform(winsorise)\n",
    ")\n",
    "\n",
    "print(\"Winsorisation done — compare df[['Value','Value_winsor']].head()\")\n"
   ]
  },
  {
   "cell_type": "markdown",
   "id": "67b67b3e",
   "metadata": {},
   "source": [
    "## 🛠️ Feature Engineering\n",
    "\n",
    "Compute YoY returns, log returns and create lag features."
   ]
  },
  {
   "cell_type": "code",
   "execution_count": 14,
   "id": "ac7d38a7-abff-46eb-adcd-64cfeab97f8a",
   "metadata": {},
   "outputs": [],
   "source": [
    "# 2C‑1  YoY percentage change\n",
    "df[\"YoY_Return\"] = (\n",
    "    df.groupby(\"Item\")[\"Value_winsor\"]\n",
    "      .pct_change()\n",
    ")\n",
    "\n",
    "# 2C‑2  Log‑returns (optional)\n",
    "df[\"Log_Return\"] = np.log1p(df[\"YoY_Return\"])\n",
    "\n",
    "# 2C‑3  Lag up to 3 years (for classical models / risk score)\n",
    "for lag in [1, 2, 3]:\n",
    "    df[f\"Value_lag{lag}\"] = (\n",
    "        df.groupby(\"Item\")[\"Value_winsor\"].shift(lag)\n",
    "    )\n"
   ]
  },
  {
   "cell_type": "markdown",
   "id": "8cce194e",
   "metadata": {},
   "source": [
    "## 📉 Rolling Volatility\n",
    "\n",
    "Add 3‑year and 5‑year rolling standard deviations of returns."
   ]
  },
  {
   "cell_type": "code",
   "execution_count": 15,
   "id": "48afc5a1-d9ff-45d1-bfa7-45652d17bc80",
   "metadata": {},
   "outputs": [],
   "source": [
    "windows = [3, 5]           # 3‑year & 5‑year rolling std\n",
    "for w in windows:\n",
    "    df[f\"Vol_{w}y\"] = (\n",
    "        df.groupby(\"Item\")[\"YoY_Return\"]\n",
    "          .rolling(window=w, min_periods=1)\n",
    "          .std()\n",
    "          .reset_index(level=0, drop=True)\n",
    "    )\n"
   ]
  },
  {
   "cell_type": "markdown",
   "id": "4fe8fe0f",
   "metadata": {},
   "source": [
    "## 🧼 Finalise Feature Set\n",
    "\n",
    "Drop residual NaNs and save engineered feature CSV."
   ]
  },
  {
   "cell_type": "code",
   "execution_count": 16,
   "id": "c1fdc147-cbe4-43b1-8341-aba2f3717995",
   "metadata": {},
   "outputs": [
    {
     "name": "stdout",
     "output_type": "stream",
     "text": [
      "Dropped 81 rows with residual NaNs (kept 1797).\n"
     ]
    }
   ],
   "source": [
    "# Drop any rows that still have NaNs after engineering\n",
    "before = len(df)\n",
    "df_feat = df.dropna().reset_index(drop=True)\n",
    "after  = len(df_feat)\n",
    "print(f\"Dropped {before - after} rows with residual NaNs (kept {after}).\")\n"
   ]
  },
  {
   "cell_type": "code",
   "execution_count": 17,
   "id": "7d6cc71b-b5aa-47eb-a9ef-e6a78fac3eac",
   "metadata": {},
   "outputs": [
    {
     "name": "stdout",
     "output_type": "stream",
     "text": [
      "✅ Step 2 complete – features saved to → jp_veg_features.csv\n"
     ]
    }
   ],
   "source": [
    "FEATURE_PATH = \"jp_veg_features.csv\"\n",
    "df_feat.to_csv(FEATURE_PATH, index=False)\n",
    "print(\"✅ Step 2 complete – features saved to →\", FEATURE_PATH)\n"
   ]
  },
  {
   "cell_type": "markdown",
   "id": "9c097a7e",
   "metadata": {},
   "source": [
    "## 🤖 Modelling Setup\n",
    "\n",
    "Import modelling libs and define hyperparameters."
   ]
  },
  {
   "cell_type": "code",
   "execution_count": 18,
   "id": "095ef8be-a893-495b-924f-1d9c8ef97c27",
   "metadata": {},
   "outputs": [],
   "source": [
    "import pandas as pd, numpy as np, tensorflow as tf\n",
    "from sklearn.metrics import mean_absolute_percentage_error\n",
    "\n",
    "# 3A‑1  Load engineered dataset\n",
    "df_feat = pd.read_csv(\"jp_veg_features.csv\")\n",
    "\n",
    "# 3A‑2  Key hyper‑parameters\n",
    "WINDOW   = 5   # look‑back steps (years)\n",
    "HORIZON  = 1   # forecast one step ahead\n",
    "EPOCHS   = 150\n",
    "BATCH_SZ = 8\n",
    "TEST_SPLIT = 0.2  # 80‑20 train‑test\n"
   ]
  },
  {
   "cell_type": "markdown",
   "id": "86fd7ac6",
   "metadata": {},
   "source": [
    "## 🧩 Helper Functions\n",
    "\n",
    "Sequence builder and LSTM architecture."
   ]
  },
  {
   "cell_type": "code",
   "execution_count": 19,
   "id": "0dba00d8-3dd2-4cf4-b673-bd460e5f2b1a",
   "metadata": {},
   "outputs": [],
   "source": [
    "def make_sequences(series: np.ndarray, window=WINDOW, horizon=HORIZON):\n",
    "    X, y = [], []\n",
    "    for i in range(len(series) - window - horizon + 1):\n",
    "        X.append(series[i : i + window])\n",
    "        y.append(series[i + window : i + window + horizon])\n",
    "    X = np.array(X)[..., None]  # (samples, timesteps, features=1)\n",
    "    y = np.array(y)\n",
    "    return X, y\n"
   ]
  },
  {
   "cell_type": "code",
   "execution_count": 20,
   "id": "80a4483e-a0f1-4571-b311-72ada874e085",
   "metadata": {},
   "outputs": [],
   "source": [
    "from tensorflow.keras import layers, models\n",
    "\n",
    "def build_lstm(window=WINDOW):\n",
    "    model = models.Sequential([\n",
    "        layers.Input(shape=(window, 1)),\n",
    "        layers.LSTM(32, return_sequences=False),\n",
    "        layers.Dense(16, activation=\"relu\"),\n",
    "        layers.Dense(1)  # horizon = 1\n",
    "    ])\n",
    "    model.compile(optimizer=\"adam\", loss=\"mse\", metrics=[\"mae\"])\n",
    "    return model\n"
   ]
  },
  {
   "cell_type": "markdown",
   "id": "0e8ad993",
   "metadata": {},
   "source": [
    "## 🎯 Train & Evaluate One Vegetable\n",
    "\n",
    "Train an LSTM on one chosen vegetable and report metrics."
   ]
  },
  {
   "cell_type": "code",
   "execution_count": 21,
   "id": "c0b984b2-cfcc-434f-a423-43c76397da17",
   "metadata": {},
   "outputs": [
    {
     "name": "stdout",
     "output_type": "stream",
     "text": [
      "WARNING:tensorflow:From C:\\Users\\Pavel\\miniconda3\\envs\\jp_veg_ai\\Lib\\site-packages\\keras\\src\\backend.py:277: The name tf.reset_default_graph is deprecated. Please use tf.compat.v1.reset_default_graph instead.\n",
      "\n",
      "WARNING:tensorflow:From C:\\Users\\Pavel\\miniconda3\\envs\\jp_veg_ai\\Lib\\site-packages\\keras\\src\\optimizers\\__init__.py:309: The name tf.train.Optimizer is deprecated. Please use tf.compat.v1.train.Optimizer instead.\n",
      "\n",
      "WARNING:tensorflow:From C:\\Users\\Pavel\\miniconda3\\envs\\jp_veg_ai\\Lib\\site-packages\\keras\\src\\utils\\tf_utils.py:492: The name tf.ragged.RaggedTensorValue is deprecated. Please use tf.compat.v1.ragged.RaggedTensorValue instead.\n",
      "\n",
      "WARNING:tensorflow:From C:\\Users\\Pavel\\miniconda3\\envs\\jp_veg_ai\\Lib\\site-packages\\keras\\src\\engine\\base_layer_utils.py:384: The name tf.executing_eagerly_outside_functions is deprecated. Please use tf.compat.v1.executing_eagerly_outside_functions instead.\n",
      "\n",
      "Training done for Tomatoes. Last val_loss: 197451776000.0000\n"
     ]
    }
   ],
   "source": [
    "# 3D‑1  Pick a vegetable\n",
    "VEG = \"Tomatoes\"   # <-- change or run this cell multiple times per veg\n",
    "\n",
    "# 3D‑2  Extract the series (winsorised value)\n",
    "series = (\n",
    "    df_feat[df_feat[\"Item\"] == VEG]\n",
    "    .sort_values(\"Year\")[\"Value_winsor\"]\n",
    "    .values\n",
    "    .astype(\"float32\")\n",
    ")\n",
    "\n",
    "# Ensure enough points\n",
    "if len(series) <= WINDOW + 3:\n",
    "    raise ValueError(f\"Not enough data points for {VEG}. Need > {WINDOW+3}\")\n",
    "\n",
    "# 3D‑3  Make train‑test split\n",
    "X, y = make_sequences(series, WINDOW, HORIZON)\n",
    "split = int(len(X) * (1 - TEST_SPLIT))\n",
    "X_train, X_test = X[:split], X[split:]\n",
    "y_train, y_test = y[:split], y[split:]\n",
    "\n",
    "# 3D‑4  Build & train model\n",
    "tf.keras.backend.clear_session()\n",
    "model = build_lstm(WINDOW)\n",
    "history = model.fit(\n",
    "    X_train, y_train,\n",
    "    epochs=EPOCHS,\n",
    "    batch_size=BATCH_SZ,\n",
    "    verbose=0,\n",
    "    validation_data=(X_test, y_test)\n",
    ")\n",
    "print(f\"Training done for {VEG}. Last val_loss: {history.history['val_loss'][-1]:.4f}\")\n"
   ]
  },
  {
   "cell_type": "code",
   "execution_count": 22,
   "id": "5b9dcd06-c84b-45bc-adef-232ecc132c4a",
   "metadata": {},
   "outputs": [
    {
     "name": "stdout",
     "output_type": "stream",
     "text": [
      "1/1 [==============================] - 2s 2s/step\n",
      "Tomatoes → MAPE 99.66% | Directional 0.0%\n"
     ]
    }
   ],
   "source": [
    "# Predictions on test set\n",
    "preds = model.predict(X_test).flatten()\n",
    "y_true = y_test.flatten()\n",
    "\n",
    "# 3E‑1  MAPE\n",
    "mape = mean_absolute_percentage_error(y_true, preds) * 100\n",
    "\n",
    "# 3E‑2  Directional accuracy\n",
    "directional = (\n",
    "    np.sign(np.diff(y_true)) == np.sign(np.diff(preds))\n",
    ").mean() * 100\n",
    "\n",
    "print(f\"{VEG} → MAPE {mape:.2f}% | Directional {directional:.1f}%\")\n"
   ]
  },
  {
   "cell_type": "code",
   "execution_count": 23,
   "id": "8a60f4f0-2db8-4af6-93b1-ac1504a85080",
   "metadata": {},
   "outputs": [
    {
     "name": "stdout",
     "output_type": "stream",
     "text": [
      "1/1 [==============================] - 0s 42ms/step\n",
      "Next‑year forecast for Tomatoes: 104 (same units as Value)\n",
      "Model saved → lstm_tomatoes.keras\n"
     ]
    }
   ],
   "source": [
    "# 3F‑1  Forecast next period\n",
    "next_val = model.predict(series[-WINDOW:].reshape(1, WINDOW, 1))[0, 0]\n",
    "print(f\"Next‑year forecast for {VEG}: {next_val:,.0f} (same units as Value)\")\n",
    "\n",
    "# 3F‑2  Save model (optional)\n",
    "model_path = f\"lstm_{VEG.lower().replace(' ', '_')}.keras\"\n",
    "model.save(model_path)\n",
    "print(\"Model saved →\", model_path)\n"
   ]
  },
  {
   "cell_type": "markdown",
   "id": "8550f8a3",
   "metadata": {},
   "source": [
    "## 🔁 Train All Vegetables\n",
    "\n",
    "Loop through all vegetables, train models, collect metrics."
   ]
  },
  {
   "cell_type": "code",
   "execution_count": 24,
   "id": "05a7c2fc-693f-485b-9fd7-1f9e51097544",
   "metadata": {},
   "outputs": [
    {
     "name": "stdout",
     "output_type": "stream",
     "text": [
      "1/1 [==============================] - 1s 986ms/step\n",
      "1/1 [==============================] - 1s 998ms/step\n",
      "1/1 [==============================] - 1s 832ms/step\n",
      "WARNING:tensorflow:5 out of the last 6 calls to <function Model.make_predict_function.<locals>.predict_function at 0x0000021FFE4C9A80> triggered tf.function retracing. Tracing is expensive and the excessive number of tracings could be due to (1) creating @tf.function repeatedly in a loop, (2) passing tensors with different shapes, (3) passing Python objects instead of tensors. For (1), please define your @tf.function outside of the loop. For (2), @tf.function has reduce_retracing=True option that can avoid unnecessary retracing. For (3), please refer to https://www.tensorflow.org/guide/function#controlling_retracing and https://www.tensorflow.org/api_docs/python/tf/function for  more details.\n",
      "1/1 [==============================] - 2s 2s/step\n",
      "WARNING:tensorflow:6 out of the last 7 calls to <function Model.make_predict_function.<locals>.predict_function at 0x0000021FFF9A4C20> triggered tf.function retracing. Tracing is expensive and the excessive number of tracings could be due to (1) creating @tf.function repeatedly in a loop, (2) passing tensors with different shapes, (3) passing Python objects instead of tensors. For (1), please define your @tf.function outside of the loop. For (2), @tf.function has reduce_retracing=True option that can avoid unnecessary retracing. For (3), please refer to https://www.tensorflow.org/guide/function#controlling_retracing and https://www.tensorflow.org/api_docs/python/tf/function for  more details.\n",
      "1/1 [==============================] - 1s 1s/step\n",
      "1/1 [==============================] - 1s 943ms/step\n",
      "1/1 [==============================] - 1s 963ms/step\n",
      "1/1 [==============================] - 1s 852ms/step\n",
      "1/1 [==============================] - 1s 961ms/step\n",
      "1/1 [==============================] - 1s 830ms/step\n",
      "1/1 [==============================] - 1s 713ms/step\n",
      "1/1 [==============================] - 1s 913ms/step\n",
      "1/1 [==============================] - 1s 1s/step\n",
      "1/1 [==============================] - 1s 741ms/step\n",
      "1/1 [==============================] - 1s 805ms/step\n",
      "1/1 [==============================] - 2s 2s/step\n",
      "1/1 [==============================] - 1s 1s/step\n",
      "1/1 [==============================] - 1s 706ms/step\n",
      "1/1 [==============================] - 1s 813ms/step\n",
      "1/1 [==============================] - 1s 877ms/step\n",
      "1/1 [==============================] - 1s 979ms/step\n",
      "1/1 [==============================] - 1s 923ms/step\n",
      "1/1 [==============================] - 1s 912ms/step\n",
      "1/1 [==============================] - 1s 917ms/step\n",
      "1/1 [==============================] - 1s 1s/step\n",
      "1/1 [==============================] - 1s 1s/step\n",
      "1/1 [==============================] - 1s 950ms/step\n"
     ]
    },
    {
     "data": {
      "text/html": [
       "<div>\n",
       "<style scoped>\n",
       "    .dataframe tbody tr th:only-of-type {\n",
       "        vertical-align: middle;\n",
       "    }\n",
       "\n",
       "    .dataframe tbody tr th {\n",
       "        vertical-align: top;\n",
       "    }\n",
       "\n",
       "    .dataframe thead th {\n",
       "        text-align: right;\n",
       "    }\n",
       "</style>\n",
       "<table border=\"1\" class=\"dataframe\">\n",
       "  <thead>\n",
       "    <tr style=\"text-align: right;\">\n",
       "      <th></th>\n",
       "      <th>Item</th>\n",
       "      <th>MAPE%</th>\n",
       "      <th>Directional%</th>\n",
       "    </tr>\n",
       "  </thead>\n",
       "  <tbody>\n",
       "    <tr>\n",
       "      <th>0</th>\n",
       "      <td>Asparagus</td>\n",
       "      <td>97.855258</td>\n",
       "      <td>0.0</td>\n",
       "    </tr>\n",
       "    <tr>\n",
       "      <th>11</th>\n",
       "      <td>Green garlic</td>\n",
       "      <td>98.029923</td>\n",
       "      <td>0.0</td>\n",
       "    </tr>\n",
       "    <tr>\n",
       "      <th>17</th>\n",
       "      <td>Peas, green</td>\n",
       "      <td>98.457611</td>\n",
       "      <td>0.0</td>\n",
       "    </tr>\n",
       "    <tr>\n",
       "      <th>1</th>\n",
       "      <td>Broad beans and horse beans, green</td>\n",
       "      <td>98.867148</td>\n",
       "      <td>0.0</td>\n",
       "    </tr>\n",
       "    <tr>\n",
       "      <th>21</th>\n",
       "      <td>String beans</td>\n",
       "      <td>98.906410</td>\n",
       "      <td>0.0</td>\n",
       "    </tr>\n",
       "  </tbody>\n",
       "</table>\n",
       "</div>"
      ],
      "text/plain": [
       "                                  Item      MAPE%  Directional%\n",
       "0                            Asparagus  97.855258           0.0\n",
       "11                        Green garlic  98.029923           0.0\n",
       "17                         Peas, green  98.457611           0.0\n",
       "1   Broad beans and horse beans, green  98.867148           0.0\n",
       "21                        String beans  98.906410           0.0"
      ]
     },
     "execution_count": 24,
     "metadata": {},
     "output_type": "execute_result"
    }
   ],
   "source": [
    "results = []\n",
    "\n",
    "for veg in df_feat[\"Item\"].unique():\n",
    "    series = df_feat[df_feat[\"Item\"] == veg].sort_values(\"Year\")[\"Value_winsor\"].values.astype(\"float32\")\n",
    "    if len(series) <= WINDOW + 3:\n",
    "        continue\n",
    "    X, y = make_sequences(series)\n",
    "    split = int(len(X) * (1 - TEST_SPLIT))\n",
    "    Xtr, Xte, ytr, yte = X[:split], X[split:], y[:split], y[split:]\n",
    "\n",
    "    tf.keras.backend.clear_session()\n",
    "    m = build_lstm(WINDOW)\n",
    "    m.fit(Xtr, ytr, epochs=EPOCHS, batch_size=BATCH_SZ, verbose=0)\n",
    "    preds = m.predict(Xte).flatten()\n",
    "\n",
    "    mape  = mean_absolute_percentage_error(yte.flatten(), preds) * 100\n",
    "    direc = (np.sign(np.diff(yte.flatten())) == np.sign(np.diff(preds))).mean() * 100\n",
    "    results.append((veg, mape, direc))\n",
    "\n",
    "df_metrics = pd.DataFrame(results, columns=[\"Item\", \"MAPE%\", \"Directional%\"])\n",
    "df_metrics.sort_values(\"MAPE%\").head()\n"
   ]
  },
  {
   "cell_type": "markdown",
   "id": "017c54dd",
   "metadata": {},
   "source": [
    "## ⚖️ Risk Scoring\n",
    "\n",
    "Compute composite risk score (volatility, exposure, supply risk) and save table."
   ]
  },
  {
   "cell_type": "code",
   "execution_count": 25,
   "id": "4940b649-b1a0-4fdd-8c05-7a170cfdd670",
   "metadata": {},
   "outputs": [],
   "source": [
    "df_feat = pd.read_csv(\"jp_veg_features.csv\")\n",
    "\n",
    "# Exposure proxy → mean tonnage or a constant if unavailable\n",
    "if \"Production_Tonnes\" in df_feat.columns:\n",
    "    exposure = (\n",
    "        df_feat.groupby(\"Item\")[\"Production_Tonnes\"]\n",
    "        .transform(\"mean\")\n",
    "    )\n",
    "else:\n",
    "    exposure = 1   # fallback\n",
    "\n",
    "df_feat[\"Exposure\"] = exposure\n",
    "\n",
    "# Supply‑risk proxy → inverse of production growth stability\n",
    "df_feat[\"SupplyRisk\"] = (\n",
    "    df_feat.groupby(\"Item\")[\"YoY_Return\"]\n",
    "           .transform(\"std\")\n",
    ").fillna(df_feat[\"YoY_Return\"].std())\n"
   ]
  },
  {
   "cell_type": "code",
   "execution_count": 26,
   "id": "76a2ca05-7e78-42ff-b94c-5d7706f248c1",
   "metadata": {},
   "outputs": [
    {
     "data": {
      "text/html": [
       "<div>\n",
       "<style scoped>\n",
       "    .dataframe tbody tr th:only-of-type {\n",
       "        vertical-align: middle;\n",
       "    }\n",
       "\n",
       "    .dataframe tbody tr th {\n",
       "        vertical-align: top;\n",
       "    }\n",
       "\n",
       "    .dataframe thead th {\n",
       "        text-align: right;\n",
       "    }\n",
       "</style>\n",
       "<table border=\"1\" class=\"dataframe\">\n",
       "  <thead>\n",
       "    <tr style=\"text-align: right;\">\n",
       "      <th></th>\n",
       "      <th>Item</th>\n",
       "      <th>RiskScore</th>\n",
       "      <th>Vol_5y</th>\n",
       "      <th>Exposure</th>\n",
       "      <th>SupplyRisk</th>\n",
       "    </tr>\n",
       "  </thead>\n",
       "  <tbody>\n",
       "    <tr>\n",
       "      <th>0</th>\n",
       "      <td>Other vegetables, fresh n.e.c.</td>\n",
       "      <td>0.700000</td>\n",
       "      <td>67.702814</td>\n",
       "      <td>1</td>\n",
       "      <td>55.441456</td>\n",
       "    </tr>\n",
       "    <tr>\n",
       "      <th>1</th>\n",
       "      <td>Other vegetables, fresh n.e.c.</td>\n",
       "      <td>0.698715</td>\n",
       "      <td>67.528808</td>\n",
       "      <td>1</td>\n",
       "      <td>55.441456</td>\n",
       "    </tr>\n",
       "    <tr>\n",
       "      <th>2</th>\n",
       "      <td>Other vegetables, fresh n.e.c.</td>\n",
       "      <td>0.607703</td>\n",
       "      <td>55.207788</td>\n",
       "      <td>1</td>\n",
       "      <td>55.441456</td>\n",
       "    </tr>\n",
       "    <tr>\n",
       "      <th>3</th>\n",
       "      <td>Potatoes</td>\n",
       "      <td>0.425405</td>\n",
       "      <td>38.877906</td>\n",
       "      <td>1</td>\n",
       "      <td>38.351675</td>\n",
       "    </tr>\n",
       "    <tr>\n",
       "      <th>4</th>\n",
       "      <td>Potatoes</td>\n",
       "      <td>0.422405</td>\n",
       "      <td>38.471870</td>\n",
       "      <td>1</td>\n",
       "      <td>38.351675</td>\n",
       "    </tr>\n",
       "  </tbody>\n",
       "</table>\n",
       "</div>"
      ],
      "text/plain": [
       "                             Item  RiskScore     Vol_5y  Exposure  SupplyRisk\n",
       "0  Other vegetables, fresh n.e.c.   0.700000  67.702814         1   55.441456\n",
       "1  Other vegetables, fresh n.e.c.   0.698715  67.528808         1   55.441456\n",
       "2  Other vegetables, fresh n.e.c.   0.607703  55.207788         1   55.441456\n",
       "3                        Potatoes   0.425405  38.877906         1   38.351675\n",
       "4                        Potatoes   0.422405  38.471870         1   38.351675"
      ]
     },
     "execution_count": 26,
     "metadata": {},
     "output_type": "execute_result"
    }
   ],
   "source": [
    "latest_year = df_feat[\"Year\"].max()\n",
    "df_latest = df_feat[df_feat[\"Year\"] == latest_year].copy()\n",
    "\n",
    "for col in [\"Vol_5y\", \"Exposure\", \"SupplyRisk\"]:\n",
    "    mn, mx = df_latest[col].min(), df_latest[col].max()\n",
    "    df_latest[col + \"_norm\"] = (df_latest[col] - mn) / (mx - mn + 1e-9)\n",
    "\n",
    "df_latest[\"RiskScore\"] = (\n",
    "    0.5 * df_latest[\"Vol_5y_norm\"] +\n",
    "    0.3 * df_latest[\"Exposure_norm\"] +\n",
    "    0.2 * df_latest[\"SupplyRisk_norm\"]\n",
    ")\n",
    "\n",
    "risk_table = (\n",
    "    df_latest[[\"Item\", \"RiskScore\", \"Vol_5y\", \"Exposure\", \"SupplyRisk\"]]\n",
    "    .sort_values(\"RiskScore\", ascending=False)\n",
    "    .reset_index(drop=True)\n",
    ")\n",
    "\n",
    "risk_table.head()\n"
   ]
  },
  {
   "cell_type": "code",
   "execution_count": 27,
   "id": "b9cf37fc-bb5c-4cfe-b586-c7912eb622cb",
   "metadata": {},
   "outputs": [
    {
     "name": "stdout",
     "output_type": "stream",
     "text": [
      "Risk table saved ✅\n"
     ]
    }
   ],
   "source": [
    "risk_table.to_csv(\"veg_risk_scores.csv\", index=False)\n",
    "print(\"Risk table saved ✅\")\n"
   ]
  }
 ],
 "metadata": {},
 "nbformat": 4,
 "nbformat_minor": 5
}
